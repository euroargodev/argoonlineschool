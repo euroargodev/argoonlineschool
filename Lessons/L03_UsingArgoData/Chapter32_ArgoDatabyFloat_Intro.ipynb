{
 "cells": [
  {
   "cell_type": "markdown",
   "metadata": {},
   "source": [
    "## Accessing Argo data by float"
   ]
  },
  {
   "cell_type": "markdown",
   "metadata": {
    "tags": [
     "hide_input"
    ]
   },
   "source": [
    "&nbsp;&nbsp;\n",
    "\n",
    "<center>\n",
    "<iframe width=\"800\" height=\"450\" src=\"https://www.youtube.com/embed/mgfN9PQE6WY?si=WTrQXhhyrFwI6Kii\" title=\"The Argo Online School 321 -  Using Argo Data.  Accesing Argo data by float.\" frameborder=\"0\" allow=\"accelerometer; autoplay; clipboard-write; encrypted-media; gyroscope; picture-in-picture; web-share\" referrerpolicy=\"strict-origin-when-cross-origin\" allowfullscreen></iframe>\n",
    "</center>\n",
    "\n",
    "_The Argo Online School 321 -  Using Argo Data.  Accesing Argo data by float._"
   ]
  },
  {
   "cell_type": "markdown",
   "metadata": {},
   "source": [
    "**Real-Time and Calibrated data**\n",
    "\n",
    "Since the target of the Argo program is to have the Argo data available within 12 hours of its transmission from the float, this data is called the *Real-Time* (RT) data. One year after the data were observed, it is adjusted if necessary, and made public. This calibrated data is called *Delayed Mode* (DM) data.  \n",
    "\n",
    "In section [Real-Time and Delayed mode data](https://euroargodev.github.io/argoonlineschool/Lessons/L03_UsingArgoData/Chapter34_RTandDM.html) we will describe in detail the differences between both kinds of data, and what are the quality control flags. However, to keep it simple, we will begin by focusing on the Real-Time (RT) data."
   ]
  },
  {
   "cell_type": "markdown",
   "metadata": {},
   "source": [
    "**Data files organized by float**\n",
    "\n",
    "When accessing the **dac** folder, via the *FTP* or *HTTP* protocols, of any of the two GDACs you will find several (11) folders, one for each of the DACs.  Within each one of these, folders there is one folder for each of the floats processed by this particular *DAC*. \n",
    "\n",
    "\n",
    "<img src=\"https://github.com/euroargodev/argoonlineschool/raw/master/images/dac.png\" alt=\"xarray logo\" width=\"650\"/>"
   ]
  },
  {
   "cell_type": "markdown",
   "metadata": {},
   "source": [
    "In the example here, we will use data from float with **WMO** number 6901254, which is processed by Coriolis (later we will see how to find the DAC for each float), therefore within the folder `./6901254`, we find the following files and folder:\n",
    "\n",
    "- 6901254_Rtraj.nc \n",
    "- 6901254_meta.nc  \n",
    "- 6901254_prof.nc  \n",
    "- 6901254_tech.nc  \n",
    "- profiles/\n",
    "\n",
    "We will describe the content of each of these files later, but let's focus on the folder `profiles/` since it contains one file for each one of the hydrographic cycles carried out by the float. **R6901254_001.nc** is the file that contains the data from the first cycle. It begins with a *R* since it is the Real-Time data and if it begins with an *D* it would be adjusted data, or Delayed Mode data; we will see an example in section [Real-Time and Delayed mode data¶](https://euroargodev.github.io/argoonlineschool/Lessons/L03_UsingArgoData/Chapter34_RTandDM.html). \n",
    "\n",
    "Additionally, some Argo floats as 6901254, also made observations in the first descent from the surface to the parking depth. In this case, the name of the files with this data would be **R6901254_001D.nc**.  \n",
    "\n",
    "In general, the format of the file names for individual profiles are `<R/D><FloatWmoID>_<XXX><D>.nc` where :\n",
    "\n",
    "- The initial *R* indicates Real-Time data, the initial *D* indicates Delayed-Mode data\n",
    "- *XXX* is the cycle number\n",
    "- The second *D* indicates a descending profile, if exists, while profiles without this D are collected during ascent.\n",
    "\n",
    "\n",
    "Note that it may happen that, in the future, you try to download the files from float 6901254 and there is no `R6901254_001.nc` and `R6901254_001D.nc` files, but you find only `D6901254_001.nc` and `D6901254_001D.nc` since the R-files are substituted by the D-files once the data is adjusted. We will describe that in detail in section [Real-Time and Delayed mode data¶](https://euroargodev.github.io/argoonlineschool/Lessons/L03_UsingArgoData/Chapter34_RTandDM.html)"
   ]
  },
  {
   "cell_type": "markdown",
   "metadata": {},
   "source": [
    ">The data from the float is pre-downloaded in the *./Data* folder, but you can download it from the Coriolis GDAC. See the [Data](https://euroargodev.github.io/argoonlineschool/Lessons/L03_UsingArgoData/Chapter30_UsingArgoData_intro.html#data-used-in-the-argo-online-school) section for instructions on how to download the data.\n",
    "\n",
    "\n"
   ]
  },
  {
   "cell_type": "code",
   "execution_count": null,
   "metadata": {},
   "outputs": [],
   "source": []
  }
 ],
 "metadata": {
  "kernelspec": {
   "display_name": "Python 3 (ipykernel)",
   "language": "python",
   "name": "python3"
  },
  "language_info": {
   "codemirror_mode": {
    "name": "ipython",
    "version": 3
   },
   "file_extension": ".py",
   "mimetype": "text/x-python",
   "name": "python",
   "nbconvert_exporter": "python",
   "pygments_lexer": "ipython3",
   "version": "3.13.7"
  }
 },
 "nbformat": 4,
 "nbformat_minor": 4
}
