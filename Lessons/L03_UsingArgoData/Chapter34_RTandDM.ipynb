{
 "cells": [
  {
   "cell_type": "markdown",
   "metadata": {},
   "source": [
    "## Real-Time and Delayed mode data"
   ]
  },
  {
   "cell_type": "markdown",
   "metadata": {
    "tags": [
     "hide_input"
    ]
   },
   "source": [
    "&nbsp;&nbsp;\n",
    "\n",
    "<center>\n",
    "<iframe width=\"800\" height=\"450\" src=\"https://www.youtube.com/embed/7QHfslRn4rc?si=CVO-RUTV7Vq6d2Us\" title=\"The Argo Online School 341 -  Using Argo Data.  Real-Time and Delayed mode data\" frameborder=\"0\" allow=\"accelerometer; autoplay; clipboard-write; encrypted-media; gyroscope; picture-in-picture; web-share\" referrerpolicy=\"strict-origin-when-cross-origin\" allowfullscreen></iframe>\n",
    "</center>\n",
    "\n",
    "_The Argo Online School 341 -  Using Argo Data.  Real-Time and Delayed mode data._"
   ]
  },
  {
   "cell_type": "markdown",
   "metadata": {},
   "source": [
    "The Argo program guarantees free and quality data distribution to the entire scientific & operational community and the general public. Before that, data needs to be checked out through different controls to guarantee their homogeneity and quality within the established accuracy ranges, $\\pm$ 0.005ºC for temperature and  $\\pm$ 0.01 for salinity. \n",
    "\n",
    "The first control is the **Real-Time (RT) quality control** and the second the **Delayed - Mode (DM) quality control**. Therefore, the data that has gone through the RT quality control is called [**RT data**](https://euroargodev.github.io/argoonlineschool/Lessons/L03_UsingArgoData/Chapter34b_RTData.html) and the data that has gone through, both, the RT and DM quality controls is called [**DM data**](https://euroargodev.github.io/argoonlineschool/Lessons/L03_UsingArgoData/Chapter34c_DMData.html); although some times we also refer to this data as **calibrated data**\n",
    "\n",
    "For both, RT and DM data, there are quality control (QC) flags and errors that the Argo network provides to help users decide to use the data or not. So far we have accessed only the RT data and without paying attention to its quality. In the follwoing lessons, we will describe how to use the quality control information stored in the netcdf files. "
   ]
  },
  {
   "cell_type": "code",
   "execution_count": null,
   "metadata": {},
   "outputs": [],
   "source": []
  }
 ],
 "metadata": {
  "kernelspec": {
   "display_name": "Python 3 (ipykernel)",
   "language": "python",
   "name": "python3"
  },
  "language_info": {
   "codemirror_mode": {
    "name": "ipython",
    "version": 3
   },
   "file_extension": ".py",
   "mimetype": "text/x-python",
   "name": "python",
   "nbconvert_exporter": "python",
   "pygments_lexer": "ipython3",
   "version": "3.13.7"
  }
 },
 "nbformat": 4,
 "nbformat_minor": 4
}
