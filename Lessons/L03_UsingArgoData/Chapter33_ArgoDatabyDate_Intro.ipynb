{
 "cells": [
  {
   "cell_type": "markdown",
   "metadata": {},
   "source": [
    "# Accessing Argo data by date"
   ]
  },
  {
   "cell_type": "markdown",
   "metadata": {
    "tags": [
     "hide_input"
    ]
   },
   "source": [
    "&nbsp;&nbsp;\n",
    "\n",
    "<center>\n",
    "<iframe width=\"800\" height=\"450\" src=\"https://www.youtube.com/embed/dOtqR_hsmTY?si=qknEfKDgnMMXtkf_\" title=\"The Argo Online School 331 -  Using Argo Data.  Accesing Argo data by date\" frameborder=\"0\" allow=\"accelerometer; autoplay; clipboard-write; encrypted-media; gyroscope; picture-in-picture; web-share\" referrerpolicy=\"strict-origin-when-cross-origin\" allowfullscreen></iframe>\n",
    "</center>\n",
    "\n",
    "_The Argo Online School 331 -  Using Argo Data.  Accesing Argo data by date._"
   ]
  },
  {
   "cell_type": "markdown",
   "metadata": {},
   "source": [
    "**Data files organized by date**\n",
    "\n",
    "\n",
    "When accessing the **geo** folder, via the *FTP* or *HTTP* protocols, of any of the two GDACs you will find several (3) folders, one for each of the basins:\n",
    "\n",
    "- The Pacific/Atlantic, limited at 70°W.\n",
    "- The Pacific/Indian, limited at 145°E.\n",
    "- The Atlantic/Indian, limited at 20°E. \n",
    "\n",
    "In each directory the data is organized by **year**, **month** and **day**, according to the date of the rofile.\n",
    "\n",
    "\n",
    "<img src=\"https://github.com/euroargodev/argoonlineschool/raw/master/images/geo.png\" alt=\"geo organization\" width=\"650\"/>\n"
   ]
  },
  {
   "cell_type": "markdown",
   "metadata": {},
   "source": [
    "In the following notebook we explore how to accese the data under the *geo* folder."
   ]
  },
  {
   "cell_type": "code",
   "execution_count": null,
   "metadata": {},
   "outputs": [],
   "source": []
  }
 ],
 "metadata": {
  "kernelspec": {
   "display_name": "Python 3 (ipykernel)",
   "language": "python",
   "name": "python3"
  },
  "language_info": {
   "codemirror_mode": {
    "name": "ipython",
    "version": 3
   },
   "file_extension": ".py",
   "mimetype": "text/x-python",
   "name": "python",
   "nbconvert_exporter": "python",
   "pygments_lexer": "ipython3",
   "version": "3.13.7"
  }
 },
 "nbformat": 4,
 "nbformat_minor": 4
}
