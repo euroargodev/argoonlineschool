{
 "cells": [
  {
   "cell_type": "markdown",
   "id": "fd03df75-1556-4994-951f-89124e4f2d5d",
   "metadata": {},
   "source": [
    "## Additional examples"
   ]
  },
  {
   "cell_type": "markdown",
   "id": "b0677077-d8a1-42a9-9d69-4de77c028926",
   "metadata": {},
   "source": [
    "In the following chapters we shows differente examples of how to access the Argo Data. For theses examples it is requires to have downloaded the full version of the Argo Global Data Assembly Centre (Argo GDAC) snapshot from july 2021 [DOI 10.17882/42182](https://www.seanoe.org/data/00311/42182/#86141)"
   ]
  },
  {
   "cell_type": "code",
   "execution_count": null,
   "id": "e58e9c67-9aac-40fd-800e-ad2b4d00ab0e",
   "metadata": {},
   "outputs": [],
   "source": []
  }
 ],
 "metadata": {
  "kernelspec": {
   "display_name": "Python 3 (ipykernel)",
   "language": "python",
   "name": "python3"
  },
  "language_info": {
   "codemirror_mode": {
    "name": "ipython",
    "version": 3
   },
   "file_extension": ".py",
   "mimetype": "text/x-python",
   "name": "python",
   "nbconvert_exporter": "python",
   "pygments_lexer": "ipython3",
   "version": "3.13.7"
  }
 },
 "nbformat": 4,
 "nbformat_minor": 5
}
